{
 "cells": [
  {
   "cell_type": "markdown",
   "id": "239a95d3",
   "metadata": {},
   "source": [
    "# Assignment:List Comprehension"
   ]
  },
  {
   "cell_type": "markdown",
   "id": "7bc7e9fb",
   "metadata": {},
   "source": [
    "# Assignment 1:\n",
    "# Create a list of all numbers from 1 to 100 that are divisible by both 3 and 5\n",
    "# Expected: [15, 30, 45, ..., 90]"
   ]
  },
  {
   "cell_type": "code",
   "execution_count": null,
   "id": "b9cc2bc1",
   "metadata": {},
   "outputs": [],
   "source": [
    "#Solution 1\n",
    "num=100\n",
    "\n",
    "Expected=[i for i in range(1,101) if i%3==0 and i%5==0]\n",
    "\n",
    "print(Expected)"
   ]
  },
  {
   "cell_type": "markdown",
   "id": "9a588449",
   "metadata": {},
   "source": [
    "# Assignment 2:\n",
    "# Remove all vowels from a given sentence using list comprehension"
   ]
  },
  {
   "cell_type": "code",
   "execution_count": null,
   "id": "8fcba4e2",
   "metadata": {},
   "outputs": [],
   "source": [
    "#Solution 2:\n",
    "sentence = \"List comprehension makes life easier\"\n",
    "vowels = \"aeiouAEIOU\"\n",
    "\n",
    "d=[word for word in sentence if word==vowels]\n",
    "print(d)"
   ]
  },
  {
   "cell_type": "markdown",
   "id": "388d7b15",
   "metadata": {},
   "source": [
    "# Assignment 3:\n",
    "# Create a 3x3 identity matrix using list comprehension"
   ]
  },
  {
   "cell_type": "markdown",
   "id": "74677d2a",
   "metadata": {},
   "source": [
    "# Assignment 4:\n",
    "# From a nested list of integers, flatten and filter out only even numbers\n",
    "nested = [[1,2,3],[4,5,6],[7,8,9]]"
   ]
  },
  {
   "cell_type": "code",
   "execution_count": null,
   "id": "83fd5f9e",
   "metadata": {},
   "outputs": [],
   "source": [
    "#Solution 4:\n",
    "nested = [[1,2,3],[4,5,6],[7,8,9]]\n",
    "\n",
    "[ j for i in nested  for j in i if j%2==0 ]"
   ]
  },
  {
   "cell_type": "markdown",
   "id": "2a2d2fa8",
   "metadata": {},
   "source": [
    "# 5. Extract all integers from a nested list of mixed types (str, list, int)\n",
    "data = [1, 'a', [2, 'b', [3, 'c'], 4], 'd', [5, 6]]\n"
   ]
  },
  {
   "cell_type": "markdown",
   "id": "65b37a13",
   "metadata": {},
   "source": [
    "# 6. Deep flattening a list \n",
    "\n",
    "nested_deep = [1, [2, [3, [4, 5]], 6], 7]"
   ]
  },
  {
   "cell_type": "markdown",
   "id": "73113162",
   "metadata": {},
   "source": [
    "# 7. Replace all odd numbers in a matrix with -1 using nested list comprehension"
   ]
  },
  {
   "cell_type": "code",
   "execution_count": 1,
   "id": "500f5d85",
   "metadata": {},
   "outputs": [
    {
     "data": {
      "text/plain": [
       "[-1, 2, -3, 4, -5, 6, -7, 8, -9]"
      ]
     },
     "execution_count": 1,
     "metadata": {},
     "output_type": "execute_result"
    }
   ],
   "source": [
    "# Solution 7\n",
    "matrix = [[1, 2, 3], [4, 5, 6], [7, 8, 9]]\n",
    "\n",
    "\n",
    "[j if j%2==0 else j*-1  for i in matrix for j in i ] "
   ]
  },
  {
   "cell_type": "markdown",
   "id": "3beab5fa",
   "metadata": {},
   "source": [
    "# 8. Generate a 5x5 matrix with values as the sum of row and column indices"
   ]
  }
 ],
 "metadata": {
  "kernelspec": {
   "display_name": "Python 3",
   "language": "python",
   "name": "python3"
  },
  "language_info": {
   "codemirror_mode": {
    "name": "ipython",
    "version": 3
   },
   "file_extension": ".py",
   "mimetype": "text/x-python",
   "name": "python",
   "nbconvert_exporter": "python",
   "pygments_lexer": "ipython3",
   "version": "3.10.11"
  }
 },
 "nbformat": 4,
 "nbformat_minor": 5
}
