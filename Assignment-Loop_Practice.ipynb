{
 "cells": [
  {
   "cell_type": "markdown",
   "id": "cfb15f58",
   "metadata": {},
   "source": [
    "Question 1: ATM PIN\n",
    "\n",
    "You're building a basic ATM security system. When a user inserts their ATM card, they are asked to enter a 4-digit PIN. The user gets only 3 chances to enter the correct PIN.\n",
    "\n",
    "If the correct PIN is entered, print \"Access Granted.\"\n",
    "\n",
    "If the user enters the wrong PIN 3 times in a row, print \"Card Blocked.\"\n",
    "\n",
    "Write a program using a loop to simulate this behavior. Use the correct PIN as \"1234\" for now."
   ]
  },
  {
   "cell_type": "code",
   "execution_count": null,
   "id": "b03a7f0f",
   "metadata": {
    "vscode": {
     "languageId": "plaintext"
    }
   },
   "outputs": [],
   "source": [
    "#Solution 1:\n",
    "correct_pin=(1234)\n",
    "\n",
    "for i in range(0,3):\n",
    "    pin=int(input(\"Enter 4 digit code\"))\n",
    "    if pin==correct_pin:\n",
    "        print(\"Access Granted\")\n",
    "        break\n",
    "    elif pin!=correct_pin:\n",
    "        print(\"Wrong Pin\")\n",
    "        continue\n",
    "else:\n",
    "    print(\"Card Blocked\")"
   ]
  },
  {
   "cell_type": "markdown",
   "id": "3f09ced1",
   "metadata": {},
   "source": [
    "Question 2: Reverse a Number\n",
    "\n",
    "Ask the user to enter an integer number. Your task is to reverse the digits of that number and display the reversed number.\n",
    "\n",
    "Example:\n",
    "\n",
    "If the user enters 1234, your program should print 4321.\n",
    "If they enter 5080, it should print 805."
   ]
  },
  {
   "cell_type": "code",
   "execution_count": null,
   "id": "b0b6bd4e",
   "metadata": {
    "vscode": {
     "languageId": "plaintext"
    }
   },
   "outputs": [],
   "source": [
    "n = int(input(\"Enter a digit\"))\n",
    "r = 0\n",
    "\n",
    "for i in str(n):\n",
    "    integer = n % 10\n",
    "    r = r * 10 + integer\n",
    "    n //= 10\n",
    "\n",
    "print(r)   "
   ]
  },
  {
   "cell_type": "markdown",
   "id": "8befce40",
   "metadata": {},
   "source": [
    "Question 3: Prison Cell\n",
    "\n",
    "There are 100 prison cells, all initially closed (locked). There are also 100 prisoners, each assigned a unique number from 1 to 100.\n",
    "\n",
    "They play a strange game with the doors:\n",
    "\n",
    "Prisoner 1 toggles every door (opens them all).\n",
    "\n",
    "Prisoner 2 toggles every 2nd door (i.e., 2, 4, 6, ...).\n",
    "\n",
    "Prisoner 3 toggles every 3rd door (3, 6, 9, ...).\n",
    "\n",
    "...\n",
    "\n",
    "Prisoner 100 toggles every 100th door (just door 100). Toggle means:\n",
    "\n",
    "If the door is closed, it becomes open.\n",
    "\n",
    "If the door is open, it becomes closed.\n",
    "\n",
    "After all 100 prisoners have taken their turn,\n",
    "\n",
    "Which doors will remain open?"
   ]
  },
  {
   "cell_type": "code",
   "execution_count": null,
   "id": "a47ba9ea",
   "metadata": {
    "vscode": {
     "languageId": "plaintext"
    }
   },
   "outputs": [],
   "source": []
  },
  {
   "cell_type": "markdown",
   "id": "0f95563c",
   "metadata": {},
   "source": [
    "# Question 4: Count Digits in a Number\n",
    "\n",
    "Take an integer from the user and count how many digits it has\n"
   ]
  },
  {
   "cell_type": "code",
   "execution_count": null,
   "id": "27bc76f6",
   "metadata": {
    "vscode": {
     "languageId": "plaintext"
    }
   },
   "outputs": [],
   "source": [
    "#Solution 4:\n",
    "num=input(\"Enter a number\")\n",
    "\n",
    "count=0\n",
    "for i in num:\n",
    "    count+=1\n",
    "print(count)"
   ]
  },
  {
   "cell_type": "markdown",
   "id": "b08fdc59",
   "metadata": {},
   "source": [
    "# Question 5: Take a number from the user and calculate its factorial using a for loop.\n",
    "\n",
    "Factorial of n is: n * (n-1) * (n-2) * ... * 1"
   ]
  },
  {
   "cell_type": "code",
   "execution_count": null,
   "id": "967dbe9f",
   "metadata": {
    "vscode": {
     "languageId": "plaintext"
    }
   },
   "outputs": [],
   "source": [
    "#Solution 5\n",
    "\n",
    "n =int(input(\"Enter a number\"))\n",
    "\n",
    "f= 1\n",
    "\n",
    "for i in range(1, n+1):\n",
    "    f=f * i\n",
    "\n",
    "print(f\"The factorial of {n} is : \", end=\"\")\n",
    "print(f)"
   ]
  },
  {
   "cell_type": "markdown",
   "id": "1324d728",
   "metadata": {},
   "source": [
    "# Question 6: Find the Greatest Digit in a Number\n",
    "\n",
    "Take an integer input and find the largest digit in it.\n",
    "\n",
    "Example: 59281 → output: 9"
   ]
  },
  {
   "cell_type": "code",
   "execution_count": null,
   "id": "dd50d3b2",
   "metadata": {
    "vscode": {
     "languageId": "plaintext"
    }
   },
   "outputs": [],
   "source": [
    "#Solution 6\n",
    "num=int(input(\"Enter any Number\"))\n",
    "largest=0\n",
    "while num>0:\n",
    "    digit=num%10\n",
    "    if largest<digit:\n",
    "        largest=digit\n",
    "    num=num//10\n",
    "print(\"Largest Digit is : \",largest)"
   ]
  },
  {
   "cell_type": "markdown",
   "id": "16fa9461",
   "metadata": {},
   "source": [
    "# Question 7: Check if Number is Palindrome\n",
    "\n",
    "A number is a palindrome if it reads the same forward and backward.\n",
    "\n",
    "Example: 121, 444, 9889 → Palindrome\n",
    "\n",
    "Ask user to input a number and check if it's a palindrome."
   ]
  },
  {
   "cell_type": "code",
   "execution_count": null,
   "id": "3475651b",
   "metadata": {
    "vscode": {
     "languageId": "plaintext"
    }
   },
   "outputs": [],
   "source": []
  },
  {
   "cell_type": "markdown",
   "id": "660de24b",
   "metadata": {},
   "source": [
    "# Question 8: Count Even and Odd Digits\n",
    "\n",
    "Ask the user for a number and count how many even and odd digits it has."
   ]
  },
  {
   "cell_type": "code",
   "execution_count": null,
   "id": "73fc0a11",
   "metadata": {
    "vscode": {
     "languageId": "plaintext"
    }
   },
   "outputs": [],
   "source": [
    "# Solution 8\n",
    "\n",
    "num=input(\"Enter a number\")\n",
    "\n",
    "even=0\n",
    "odd=0\n",
    "\n",
    "for i in num:\n",
    "    di=int(i)\n",
    " \n",
    "    if di%2==0:\n",
    "        even+=1\n",
    "    elif di%2!=0:\n",
    "        odd+=1\n",
    "print(f\"Total Even number is: {even}\")\n",
    "print(f\"Total Odd number is: {odd}\")\n",
    "           "
   ]
  },
  {
   "cell_type": "markdown",
   "id": "f7a56965",
   "metadata": {},
   "source": [
    "# Break and Continue"
   ]
  },
  {
   "cell_type": "markdown",
   "id": "0613743f",
   "metadata": {},
   "source": [
    "# Question 1 Ask the user to enter 10 numbers one by one.\n",
    "\n",
    "As soon as the user enters a negative number, stop the loop and print \"Stopped at negative input.\"\n",
    "\n",
    "\n",
    "\n",
    "num=int(input(\"Enter a Number\"))\n",
    "\n",
    "print(\"User Entered the Number:\",num)\n"
   ]
  },
  {
   "cell_type": "code",
   "execution_count": null,
   "id": "f6dca9b0",
   "metadata": {
    "vscode": {
     "languageId": "plaintext"
    }
   },
   "outputs": [],
   "source": [
    "#Solution 1:\n",
    "num=10\n",
    "for i in range(1,11):\n",
    "    i=int(input(\"Enter 10 numbers one by one.\"))\n",
    "    if i<0:\n",
    "        print(\"Stopped at negative input.\")\n",
    "        break    \n",
    "    else:\n",
    "        print(\"User Entered the Number:\",i)\n"
   ]
  },
  {
   "cell_type": "markdown",
   "id": "09701fc6",
   "metadata": {},
   "source": [
    "# Question 2: Ask the user to enter a word.\n",
    "\n",
    "Print each character except vowels"
   ]
  },
  {
   "cell_type": "code",
   "execution_count": null,
   "id": "237f5ad0",
   "metadata": {
    "vscode": {
     "languageId": "plaintext"
    }
   },
   "outputs": [],
   "source": [
    "#Solution 2\n",
    "word=input(\"Enter a word\")\n",
    "\n",
    "for words in word:\n",
    "    if words==\"a\" or words==\"e\" or words==\"i\" or words==\"o\"  or words==\"u\" or words==\"A\" or words==\"E\" or words==\"I\" or words==\"O\" or words==\"U\":\n",
    "        continue\n",
    "    else:\n",
    "        print(words)"
   ]
  },
  {
   "cell_type": "markdown",
   "id": "cecc88fe",
   "metadata": {},
   "source": [
    "# Question 3: Skip Even, Stop on 13\n",
    "\n",
    "Print numbers from 1 to 50.\n",
    "\n",
    "Skip even numbers\n",
    "\n",
    "Stop completely if number 13 is reached"
   ]
  },
  {
   "cell_type": "code",
   "execution_count": null,
   "id": "9305063f",
   "metadata": {
    "vscode": {
     "languageId": "plaintext"
    }
   },
   "outputs": [],
   "source": [
    "#Solution 3:\n",
    "\n",
    "num=50\n",
    "\n",
    "for i in range(1,51):\n",
    "    if i%2==0:\n",
    "        continue\n",
    "    elif i==13:\n",
    "        break\n",
    "    elif i%2!=0:\n",
    "        print(i)  "
   ]
  }
 ],
 "metadata": {
  "language_info": {
   "name": "python"
  }
 },
 "nbformat": 4,
 "nbformat_minor": 5
}
